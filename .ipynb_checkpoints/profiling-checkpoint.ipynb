{
 "cells": [
  {
   "cell_type": "code",
   "execution_count": 2,
   "id": "1d01c2d9",
   "metadata": {},
   "outputs": [],
   "source": [
    "import matplotlib.pyplot as plt\n",
    "import pandas as pd"
   ]
  },
  {
   "cell_type": "code",
   "execution_count": 3,
   "id": "04706b7e",
   "metadata": {},
   "outputs": [],
   "source": [
    "times = pd.read_csv('train_times.csv')"
   ]
  },
  {
   "cell_type": "code",
   "execution_count": 4,
   "id": "224c42bb",
   "metadata": {},
   "outputs": [
    {
     "data": {
      "text/html": [
       "<div>\n",
       "<style scoped>\n",
       "    .dataframe tbody tr th:only-of-type {\n",
       "        vertical-align: middle;\n",
       "    }\n",
       "\n",
       "    .dataframe tbody tr th {\n",
       "        vertical-align: top;\n",
       "    }\n",
       "\n",
       "    .dataframe thead th {\n",
       "        text-align: right;\n",
       "    }\n",
       "</style>\n",
       "<table border=\"1\" class=\"dataframe\">\n",
       "  <thead>\n",
       "    <tr style=\"text-align: right;\">\n",
       "      <th></th>\n",
       "      <th>datasize</th>\n",
       "      <th>ex_time</th>\n",
       "      <th>n_trees</th>\n",
       "      <th>min_samples_split</th>\n",
       "      <th>max_depth</th>\n",
       "      <th>n_feats</th>\n",
       "    </tr>\n",
       "  </thead>\n",
       "  <tbody>\n",
       "    <tr>\n",
       "      <th>0</th>\n",
       "      <td>100</td>\n",
       "      <td>0.851555</td>\n",
       "      <td>1</td>\n",
       "      <td>2</td>\n",
       "      <td>0</td>\n",
       "      <td>10</td>\n",
       "    </tr>\n",
       "    <tr>\n",
       "      <th>1</th>\n",
       "      <td>200</td>\n",
       "      <td>1.985284</td>\n",
       "      <td>1</td>\n",
       "      <td>2</td>\n",
       "      <td>0</td>\n",
       "      <td>10</td>\n",
       "    </tr>\n",
       "    <tr>\n",
       "      <th>2</th>\n",
       "      <td>300</td>\n",
       "      <td>4.312980</td>\n",
       "      <td>1</td>\n",
       "      <td>2</td>\n",
       "      <td>0</td>\n",
       "      <td>10</td>\n",
       "    </tr>\n",
       "    <tr>\n",
       "      <th>3</th>\n",
       "      <td>400</td>\n",
       "      <td>5.464243</td>\n",
       "      <td>1</td>\n",
       "      <td>2</td>\n",
       "      <td>0</td>\n",
       "      <td>10</td>\n",
       "    </tr>\n",
       "    <tr>\n",
       "      <th>4</th>\n",
       "      <td>500</td>\n",
       "      <td>6.787355</td>\n",
       "      <td>1</td>\n",
       "      <td>2</td>\n",
       "      <td>0</td>\n",
       "      <td>10</td>\n",
       "    </tr>\n",
       "    <tr>\n",
       "      <th>...</th>\n",
       "      <td>...</td>\n",
       "      <td>...</td>\n",
       "      <td>...</td>\n",
       "      <td>...</td>\n",
       "      <td>...</td>\n",
       "      <td>...</td>\n",
       "    </tr>\n",
       "    <tr>\n",
       "      <th>81</th>\n",
       "      <td>2800</td>\n",
       "      <td>524.613929</td>\n",
       "      <td>1</td>\n",
       "      <td>2</td>\n",
       "      <td>0</td>\n",
       "      <td>10</td>\n",
       "    </tr>\n",
       "    <tr>\n",
       "      <th>82</th>\n",
       "      <td>2900</td>\n",
       "      <td>407.644981</td>\n",
       "      <td>1</td>\n",
       "      <td>2</td>\n",
       "      <td>0</td>\n",
       "      <td>10</td>\n",
       "    </tr>\n",
       "    <tr>\n",
       "      <th>83</th>\n",
       "      <td>3000</td>\n",
       "      <td>495.920945</td>\n",
       "      <td>1</td>\n",
       "      <td>2</td>\n",
       "      <td>0</td>\n",
       "      <td>10</td>\n",
       "    </tr>\n",
       "    <tr>\n",
       "      <th>84</th>\n",
       "      <td>100</td>\n",
       "      <td>0.549749</td>\n",
       "      <td>1</td>\n",
       "      <td>2</td>\n",
       "      <td>0</td>\n",
       "      <td>10</td>\n",
       "    </tr>\n",
       "    <tr>\n",
       "      <th>85</th>\n",
       "      <td>200</td>\n",
       "      <td>1.756672</td>\n",
       "      <td>1</td>\n",
       "      <td>2</td>\n",
       "      <td>0</td>\n",
       "      <td>10</td>\n",
       "    </tr>\n",
       "  </tbody>\n",
       "</table>\n",
       "<p>86 rows × 6 columns</p>\n",
       "</div>"
      ],
      "text/plain": [
       "    datasize     ex_time  n_trees  min_samples_split  max_depth  n_feats\n",
       "0        100    0.851555        1                  2          0       10\n",
       "1        200    1.985284        1                  2          0       10\n",
       "2        300    4.312980        1                  2          0       10\n",
       "3        400    5.464243        1                  2          0       10\n",
       "4        500    6.787355        1                  2          0       10\n",
       "..       ...         ...      ...                ...        ...      ...\n",
       "81      2800  524.613929        1                  2          0       10\n",
       "82      2900  407.644981        1                  2          0       10\n",
       "83      3000  495.920945        1                  2          0       10\n",
       "84       100    0.549749        1                  2          0       10\n",
       "85       200    1.756672        1                  2          0       10\n",
       "\n",
       "[86 rows x 6 columns]"
      ]
     },
     "execution_count": 4,
     "metadata": {},
     "output_type": "execute_result"
    }
   ],
   "source": [
    "times"
   ]
  },
  {
   "cell_type": "code",
   "execution_count": 13,
   "id": "a9900ad7",
   "metadata": {},
   "outputs": [],
   "source": [
    "import numpy as np"
   ]
  },
  {
   "cell_type": "code",
   "execution_count": 15,
   "id": "17956258",
   "metadata": {},
   "outputs": [],
   "source": [
    "avgs = []\n",
    "for i in range(100, 3001, 100):\n",
    "    avgs.append(np.mean(times[times['datasize'] == i]['ex_time']))\n",
    "    "
   ]
  },
  {
   "cell_type": "markdown",
   "id": "3387d727",
   "metadata": {},
   "source": [
    "# Motivus"
   ]
  },
  {
   "cell_type": "code",
   "execution_count": 7,
   "id": "28dc737e",
   "metadata": {},
   "outputs": [
    {
     "data": {
      "image/png": "[encoded data removed]",
      "text/plain": [
       "<Figure size 640x480 with 1 Axes>"
      ]
     },
     "metadata": {},
     "output_type": "display_data"
    }
   ],
   "source": [
    "plt.scatter(times['datasize'], times['ex_time'])\n",
    "plt.show()"
   ]
  },
  {
   "cell_type": "code",
   "execution_count": 20,
   "id": "de354937",
   "metadata": {},
   "outputs": [
    {
     "data": {
      "image/png": "[encoded data removed]",
      "text/plain": [
       "<Figure size 640x480 with 1 Axes>"
      ]
     },
     "metadata": {},
     "output_type": "display_data"
    }
   ],
   "source": [
    "plt.plot(range(100, 3001, 100), avgs)\n",
    "plt.show()"
   ]
  },
  {
   "cell_type": "markdown",
   "id": "02087264",
   "metadata": {},
   "source": [
    "# SK-Learn"
   ]
  },
  {
   "cell_type": "code",
   "execution_count": 23,
   "id": "efc1c8d5",
   "metadata": {},
   "outputs": [],
   "source": [
    "data = pd.read_csv('data.csv')"
   ]
  },
  {
   "cell_type": "code",
   "execution_count": 27,
   "id": "8b9c9500",
   "metadata": {},
   "outputs": [],
   "source": [
    "N_SAMPLES = 10000\n"
   ]
  },
  {
   "cell_type": "code",
   "execution_count": 28,
   "id": "a20f3402",
   "metadata": {},
   "outputs": [],
   "source": [
    "X = data.iloc[:, :-1].values.tolist()\n",
    "y = list(map(str, data.iloc[:, -1:].values.reshape(N_SAMPLES, ).tolist()))\n"
   ]
  },
  {
   "cell_type": "code",
   "execution_count": 57,
   "id": "736fcf18",
   "metadata": {},
   "outputs": [
    {
     "data": {
      "text/plain": [
       "101"
      ]
     },
     "execution_count": 57,
     "metadata": {},
     "output_type": "execute_result"
    }
   ],
   "source": [
    "len((X+X)[0])"
   ]
  },
  {
   "cell_type": "code",
   "execution_count": 43,
   "id": "431a5eb5",
   "metadata": {},
   "outputs": [],
   "source": [
    "from sklearn.ensemble import RandomForestClassifier\n",
    "from sklearn.datasets import make_classification\n",
    "\n",
    "clf = RandomForestClassifier(n_estimators=1, random_state=41, max_features=10)"
   ]
  },
  {
   "cell_type": "code",
   "execution_count": 58,
   "id": "f15cc4c8",
   "metadata": {},
   "outputs": [
    {
     "name": "stdout",
     "output_type": "stream",
     "text": [
      "Execution time: 0.7555692195892334 seconds\n",
      "Execution time: 0.7337379455566406 seconds\n",
      "Execution time: 0.7451951503753662 seconds\n",
      "Execution time: 0.8372700214385986 seconds\n",
      "Execution time: 0.8396759033203125 seconds\n",
      "Execution time: 0.8129510879516602 seconds\n",
      "Execution time: 0.8027241230010986 seconds\n",
      "Execution time: 0.7406678199768066 seconds\n",
      "Execution time: 0.7149288654327393 seconds\n",
      "Execution time: 0.7733769416809082 seconds\n",
      "Execution time: 0.7285928726196289 seconds\n",
      "Execution time: 0.7589142322540283 seconds\n",
      "Execution time: 0.8516066074371338 seconds\n",
      "Execution time: 0.8622841835021973 seconds\n",
      "Execution time: 0.8138031959533691 seconds\n",
      "Execution time: 0.788358211517334 seconds\n",
      "Execution time: 0.7919919490814209 seconds\n",
      "Execution time: 0.9892177581787109 seconds\n",
      "Execution time: 0.948523998260498 seconds\n",
      "Execution time: 0.8523001670837402 seconds\n",
      "Execution time: 0.8787341117858887 seconds\n",
      "Execution time: 0.8714959621429443 seconds\n",
      "Execution time: 0.7579681873321533 seconds\n",
      "Execution time: 0.7126727104187012 seconds\n",
      "Execution time: 0.7563362121582031 seconds\n",
      "Execution time: 0.7728750705718994 seconds\n",
      "Execution time: 0.7186999320983887 seconds\n",
      "Execution time: 0.7563059329986572 seconds\n",
      "Execution time: 0.9077279567718506 seconds\n",
      "Execution time: 0.9410629272460938 seconds\n"
     ]
    }
   ],
   "source": [
    "import time\n",
    "file = open(\"train_times_sklearn.csv\", \"a\")\n",
    "\n",
    "for j in range(5):\n",
    "    for i in range(100, 3001, 100):\n",
    "        start = time.time()\n",
    "        clf.fit(X[:i], y[:i])\n",
    "        exc_time = time.time() - start\n",
    "        file.write(f\"\\n{i},{exc_time},{1},{2},{0},{10}\")\n",
    "        print(f\"Execution time: {exc_time} seconds\")\n",
    "\n",
    "file.close()"
   ]
  },
  {
   "cell_type": "code",
   "execution_count": null,
   "id": "50952ea3",
   "metadata": {},
   "outputs": [],
   "source": []
  }
 ],
 "metadata": {
  "kernelspec": {
   "display_name": "Python 3",
   "language": "python",
   "name": "python3"
  },
  "language_info": {
   "codemirror_mode": {
    "name": "ipython",
    "version": 3
   },
   "file_extension": ".py",
   "mimetype": "text/x-python",
   "name": "python",
   "nbconvert_exporter": "python",
   "pygments_lexer": "ipython3",
   "version": "3.9.5"
  }
 },
 "nbformat": 4,
 "nbformat_minor": 5
}

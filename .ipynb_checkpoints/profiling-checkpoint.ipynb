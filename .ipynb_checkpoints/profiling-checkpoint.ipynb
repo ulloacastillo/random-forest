{
 "cells": [
  {
   "cell_type": "code",
   "execution_count": 6,
   "id": "9619d103",
   "metadata": {},
   "outputs": [],
   "source": [
    "import pandas as pd\n",
    "import pickle\n",
    "from motivus.client import Client\n",
    "import asyncio\n",
    "import time\n",
    "from sklearn.datasets import load_breast_cancer\n",
    "\n",
    "data = load_breast_cancer()"
   ]
  },
  {
   "cell_type": "code",
   "execution_count": 25,
   "id": "0a66ecc7",
   "metadata": {},
   "outputs": [],
   "source": [
    "X = data.data\n",
    "y = data.target"
   ]
  },
  {
   "cell_type": "code",
   "execution_count": 26,
   "id": "7b71db2b",
   "metadata": {},
   "outputs": [],
   "source": [
    "from sklearn.model_selection import train_test_split\n",
    "\n",
    "X_train, X_test, y_train, y_test = train_test_split(X, y, test_size=0.25, random_state=42)"
   ]
  },
  {
   "cell_type": "code",
   "execution_count": 27,
   "id": "09568d3c",
   "metadata": {},
   "outputs": [],
   "source": [
    "task_type = \"train\"  # can be train or predict\n",
    "\n",
    "params = {'n_trees': 100, 'min_samples_split': 3,\n",
    "       'max_depth': 3, 'n_feats': 4, 'seed': 41}\n",
    "\n",
    "task_definition = {\n",
    "    'algorithm': \"random-forest\",\n",
    "    'algorithm_version': \"0.1.2\",\n",
    "    'params': [params, X, y, task_type]\n",
    "}"
   ]
  },
  {
   "cell_type": "code",
   "execution_count": 28,
   "id": "37a4d9fe",
   "metadata": {},
   "outputs": [],
   "source": [
    "async def main():\n",
    "    motivus = await Client.connect()\n",
    "    task_id = motivus.call_async(task_definition)\n",
    "    task = motivus.select_task(task_id)\n",
    "\n",
    "    return await task"
   ]
  },
  {
   "cell_type": "code",
   "execution_count": 29,
   "id": "73d20eef",
   "metadata": {},
   "outputs": [
    {
     "ename": "NameError",
     "evalue": "name 'asyncio' is not defined",
     "output_type": "error",
     "traceback": [
      "\u001b[0;31m---------------------------------------------------------------------------\u001b[0m",
      "\u001b[0;31mNameError\u001b[0m                                 Traceback (most recent call last)",
      "\u001b[0;32m<ipython-input-29-bf7a69c9cada>\u001b[0m in \u001b[0;36m<module>\u001b[0;34m\u001b[0m\n\u001b[0;32m----> 1\u001b[0;31m \u001b[0mresult\u001b[0m \u001b[0;34m=\u001b[0m \u001b[0masyncio\u001b[0m\u001b[0;34m.\u001b[0m\u001b[0mrun\u001b[0m\u001b[0;34m(\u001b[0m\u001b[0mmain\u001b[0m\u001b[0;34m(\u001b[0m\u001b[0;34m)\u001b[0m\u001b[0;34m)\u001b[0m\u001b[0;34m\u001b[0m\u001b[0;34m\u001b[0m\u001b[0m\n\u001b[0m",
      "\u001b[0;31mNameError\u001b[0m: name 'asyncio' is not defined"
     ]
    }
   ],
   "source": [
    "result = asyncio.run(main())"
   ]
  },
  {
   "cell_type": "code",
   "execution_count": null,
   "id": "9f0f9361",
   "metadata": {},
   "outputs": [],
   "source": []
  }
 ],
 "metadata": {
  "kernelspec": {
   "display_name": "Python 3",
   "language": "python",
   "name": "python3"
  },
  "language_info": {
   "codemirror_mode": {
    "name": "ipython",
    "version": 3
   },
   "file_extension": ".py",
   "mimetype": "text/x-python",
   "name": "python",
   "nbconvert_exporter": "python",
   "pygments_lexer": "ipython3",
   "version": "3.9.5"
  }
 },
 "nbformat": 4,
 "nbformat_minor": 5
}
